{
 "cells": [
  {
   "cell_type": "code",
   "execution_count": 1,
   "metadata": {
    "collapsed": true
   },
   "outputs": [],
   "source": [
    "# A bit of imports\n",
    "\n",
    "from time import  time\n",
    "import requests\n",
    "import numpy as np\n",
    "import cv2\n",
    "import operator\n",
    "\n",
    "import matplotlib.pyplot as plt\n",
    "\n",
    "%matplotlib inline\n",
    "\n",
    "# util links\n",
    "# https://dev.projectoxford.ai/docs/services/5639d931ca73072154c1ce89/operations/563b31ea778daf121cc3a5fa\n",
    "# https://dev.projectoxford.ai/docs/services/5639d931ca73072154c1ce89/operations/563b31ea778daf121cc3a5fa/console"
   ]
  },
  {
   "cell_type": "code",
   "execution_count": 30,
   "metadata": {},
   "outputs": [],
   "source": [
    "# vars\n",
    "URL = 'https://api.projectoxford.ai/emotion/v1.0/recognize'\n",
    "URL_WITH_SUB = 'https://api.projectoxford.ai/emotion/v1.0/recognize&ocp-apim-subscription-key=101571edec9e4999868061ba37781a0d'\n",
    "MY_KEY = '101571edec9e4999868061ba37781a0d'\n",
    "MAX_NUM_RETRIES = 10"
   ]
  },
  {
   "cell_type": "code",
   "execution_count": 31,
   "metadata": {},
   "outputs": [],
   "source": [
    "def process_requrest(json, data, headers):\n",
    "    retries, result = 0, None\n",
    "\n",
    "    while True:\n",
    "        response = requests.request('post', URL, json=json, data=data, headers=headers, params=None)\n",
    "        if operator.eq(response.status_code, 429):\n",
    "            print '==> error ..'\n",
    "            print response.json()\n",
    "            if retries <= MAX_NUM_RETRIES:\n",
    "                retries += 1\n",
    "                continue\n",
    "            else:\n",
    "                print 'failed after retrying'\n",
    "                break # while\n",
    "        elif operator.eq(response.status_code, 200) or operator.eq(response.status_code, 201):\n",
    "            print '==> response h : '\n",
    "            print response.headers\n",
    "            result = response.json()\n",
    "        else:\n",
    "            print '==> response json : '\n",
    "            print response.json()\n",
    "        \n",
    "        break\n",
    "        \n",
    "    return result"
   ]
  },
  {
   "cell_type": "code",
   "execution_count": 33,
   "metadata": {},
   "outputs": [
    {
     "name": "stdout",
     "output_type": "stream",
     "text": [
      "==> response json : \n{u'error': {u'message': u'resource not found.', u'code': u'ResourceNotFound'}}\nNone\n"
     ]
    }
   ],
   "source": [
    "# first test\n",
    "#URL direction to image\n",
    "\n",
    "urlImage = 'https://raw.githubusercontent.com/Microsoft/ProjectOxford-ClientSDK/master/Face/Windows/Data/detection3.jpg'\n",
    "headers = dict()\n",
    "headers['Content-Type'] = 'application/json'\n",
    "headers['Ocp-Apim-Subscription-Key'] = MY_KEY\n",
    "\n",
    "# test with url image no need to fill something in data object\n",
    "json = {'url': urlImage}\n",
    "data = None\n",
    "result = process_requrest(json, data, headers)\n",
    "\n",
    "print result"
   ]
  },
  {
   "cell_type": "code",
   "execution_count": 35,
   "metadata": {},
   "outputs": [
    {
     "name": "stdout",
     "output_type": "stream",
     "text": [
      "==> response json : \n{u'error': {u'message': u'resource not found.', u'code': u'ResourceNotFound'}}\nNone\n"
     ]
    }
   ],
   "source": [
    "# second test\n",
    "# image on disk\n",
    "\n",
    "pathImage = r'/Users/mohamed/Documents/test1.jpg'\n",
    "with open( pathImage, 'rb' ) as f:\n",
    "    data = f.read()\n",
    "\n",
    "headers = dict()\n",
    "headers['Content-Type'] = 'application/json'\n",
    "headers['Ocp-Apim-Subscription-Key'] = MY_KEY\n",
    "\n",
    "json = None\n",
    "result = process_requrest(json, data, headers)\n",
    "print result"
   ]
  },
  {
   "cell_type": "code",
   "execution_count": 88,
   "metadata": {},
   "outputs": [
    {
     "name": "stdout",
     "output_type": "stream",
     "text": [
      "send: 'POST /emotion/v1.0/recognize? HTTP/1.1\\r\\nHost: api.projectoxford.ai\\r\\nAccept-Encoding: identity\\r\\nContent-Length: 118\\r\\nContent-Type: application/json\\r\\nOcp-Apim-Subscription-Key: ad03ff6c15254bc28325d9217f30c9ba\\r\\n\\r\\n{\"url\": \"https://raw.githubusercontent.com/Microsoft/ProjectOxford-ClientSDK/master/Face/Windows/Data/detection3.jpg\"}'\n"
     ]
    },
    {
     "name": "stdout",
     "output_type": "stream",
     "text": [
      "reply: 'HTTP/1.1 200 OK\\r\\n'\nheader: Cache-Control: no-cache\r\nheader: Pragma: no-cache\r\nheader: Content-Length: 514\r\nheader: Content-Type: application/json; charset=utf-8\r\nheader: Expires: -1\r\nheader: X-Powered-By: ASP.NET\r\nheader: Date: Wed, 20 Apr 2016 13:50:00 GMT\r\n==> time :  2.30207085609\n==> data :\n{u'sadness': 4.156868e-09, u'neutral': 2.67820988e-09, u'contempt': 4.948203e-10, u'disgust': 1.65423147e-10, u'anger': 3.50509538e-10, u'surprise': 4.2763566e-09, u'fear': 6.918734e-11, u'happiness': 1.0}\n"
     ]
    }
   ],
   "source": [
    "import httplib\n",
    "import urllib\n",
    "import base64\n",
    "import json\n",
    "from time import time\n",
    "\n",
    "# Request headers\n",
    "headers = {\n",
    "    'Content-Type': 'application/json',\n",
    "    'Ocp-Apim-Subscription-Key': 'ad03ff6c15254bc28325d9217f30c9ba',\n",
    "}\n",
    "\n",
    "# request body\n",
    "urlImage = \"https://raw.githubusercontent.com/Microsoft/ProjectOxford-ClientSDK/master/Face/Windows/Data/detection3.jpg\"\n",
    "body = {\"url\": urlImage}\n",
    "\n",
    "params = urllib.urlencode({\n",
    "})\n",
    "\n",
    "# http://stackoverflow.com/questions/19149972/how-to-serialize-arbitrary-file-types-to-json-string-in-python\n",
    "# https://social.msdn.microsoft.com/Forums/azure/en-US/0663620c-8544-48dc-b58d-f5dbffcc889d/emotions-api-with-python?forum=mlapi\n",
    "data = None\n",
    "try:\n",
    "    t0 = time()\n",
    "    conn = httplib.HTTPSConnection('api.projectoxford.ai')\n",
    "    conn.set_debuglevel(1)\n",
    "    conn.request(\"POST\", \"/emotion/v1.0/recognize?%s\" % params, json.dumps(body), headers)\n",
    "    response = conn.getresponse()\n",
    "    data = response.read()\n",
    "    print '==> time : ', time() - t0\n",
    "    # print(data)\n",
    "    conn.close()\n",
    "except Exception as e:\n",
    "    print e\n",
    "    \n",
    "print '==> data :'\n",
    "data = json.loads(data)\n",
    "print data[0]['scores']"
   ]
  },
  {
   "cell_type": "code",
   "execution_count": null,
   "outputs": [],
   "source": [
    ""
   ]
  },
  {
   "cell_type": "code",
   "execution_count": 84,
   "metadata": {},
   "outputs": [
    {
     "name": "stdout",
     "output_type": "stream",
     "text": [
      "High five! You successfuly sent some data to your account on plotly. View your plot in your browser at https://plot.ly/~ezzaouia/0 or inside your plot.ly account where it is named 'basic-bar'\n"
     ]
    }
   ],
   "source": [
    "import plotly.plotly as py\n",
    "import plotly.graph_objs as go\n",
    "\n",
    "data = [\n",
    "    go.Bar(\n",
    "        x=data[0]['scores'].keys(),\n",
    "        y=data[0]['scores'].values()\n",
    "    )\n",
    "]\n",
    "plot_url = py.plot(data, filename='basic-bar')"
   ]
  },
  {
   "cell_type": "code",
   "execution_count": null,
   "metadata": {},
   "outputs": [],
   "source": [
    "import plotly\n",
    "print plotly.__version__            # version 1.9.4 required\n",
    "plotly.offline.init_notebook_mode() # run at the start of every notebook\n",
    "plotly.offline.iplot({\n",
    "    \"data\": [{\n",
    "        \"x\": [1, 2, 3],\n",
    "        \"y\": [4, 2, 5]\n",
    "    }],\n",
    "    \"layout\": {\n",
    "        \"title\": \"hello world\"\n",
    "    }\n",
    "})"
   ]
  },
  {
   "cell_type": "code",
   "execution_count": null,
   "metadata": {},
   "outputs": [],
   "source": [
    ""
   ]
  }
 ],
 "metadata": {
  "kernelspec": {
   "display_name": "Python 2",
   "language": "python",
   "name": "python2"
  },
  "language_info": {
   "codemirror_mode": {
    "name": "ipython",
    "version": 2.0
   },
   "file_extension": ".py",
   "mimetype": "text/x-python",
   "name": "python",
   "nbconvert_exporter": "python",
   "pygments_lexer": "ipython2",
   "version": "2.7.6"
  }
 },
 "nbformat": 4,
 "nbformat_minor": 0
}